{
 "cells": [
  {
   "cell_type": "code",
   "execution_count": null,
   "id": "af4b604b-af08-4020-bef7-20445fff4b75",
   "metadata": {},
   "outputs": [],
   "source": [
    "import numpy as np\n",
    "import pandas as pd\n",
    "import matplotlib.pyplot as plt\n",
    "from scipy.stats import linregress\n",
    "from sklearn.linear_model import LinearRegression"
   ]
  },
  {
   "cell_type": "code",
   "execution_count": null,
   "id": "bf900fce-5ef5-4b7a-8209-20fda920302a",
   "metadata": {},
   "outputs": [],
   "source": [
    "import tensorflow as tf\n",
    "from tensorflow import keras\n",
    "from keras import *\n",
    "from keras.layers import *"
   ]
  },
  {
   "cell_type": "markdown",
   "id": "403432e4",
   "metadata": {},
   "source": [
    "# **Training the Model**"
   ]
  },
  {
   "cell_type": "code",
   "execution_count": null,
   "id": "f72102bb-8ff9-4b89-b6c5-687997866e5c",
   "metadata": {},
   "outputs": [],
   "source": [
    "path = \"\"\n",
    "df = pd.read_csv(path)"
   ]
  },
  {
   "cell_type": "code",
   "execution_count": null,
   "id": "122b0fff-3ed8-406f-bb51-ac1bec461f0c",
   "metadata": {},
   "outputs": [],
   "source": [
    "def get_old_examples(data, date):\n",
    "    idxs = []\n",
    "    date = 30*int(date[:2])+int(date[3:5])+365*int(date[-4:])\n",
    "    for i in range(data[\"Date of Collection\"].shape[0]):\n",
    "        counter = data.index[i]\n",
    "        date_str = data[\"Date of Collection\"][counter]\n",
    "        data_date = 30*int(date_str[:date_str.index(\"/\")])+int(date_str[date_str.index(\"/\")+1:date_str.rindex(\"/\")])+365*int(date_str[-4:])\n",
    "        if data_date <= date:\n",
    "            idxs.append(i)\n",
    "    display(data.iloc[idxs])\n",
    "    return list(data.iloc[idxs].index)"
   ]
  },
  {
   "cell_type": "code",
   "execution_count": null,
   "id": "89d68aa1-b12f-4ce9-b31d-080fbfcc7d8b",
   "metadata": {},
   "outputs": [],
   "source": [
    "test_idxs = get_old_examples(df, \"06/01/2019\")"
   ]
  },
  {
   "cell_type": "code",
   "execution_count": null,
   "id": "23b570d1-7a12-4f39-8dcf-4893271fa5e9",
   "metadata": {},
   "outputs": [],
   "source": [
    "# df.corr()"
   ]
  },
  {
   "cell_type": "code",
   "execution_count": null,
   "id": "f07c1408-d25f-4fd7-9b07-c203173b372f",
   "metadata": {},
   "outputs": [],
   "source": [
    "df = df.iloc[:,5:-3]"
   ]
  },
  {
   "cell_type": "code",
   "execution_count": null,
   "id": "cd77783f-8680-46b5-9b37-fe2105cc86a8",
   "metadata": {},
   "outputs": [],
   "source": [
    "df.head()"
   ]
  },
  {
   "cell_type": "code",
   "execution_count": null,
   "id": "71d9f5ec-580d-4809-a5cd-e7a8ffd5c2f3",
   "metadata": {},
   "outputs": [],
   "source": [
    "train_idxs = []\n",
    "for i in range(df.shape[0]):\n",
    "    if not i in test_idxs:\n",
    "        train_idxs.append(i)"
   ]
  },
  {
   "cell_type": "code",
   "execution_count": null,
   "id": "38efde09",
   "metadata": {},
   "outputs": [],
   "source": [
    "len(test_idxs) + len(train_idxs) == df.shape[0]"
   ]
  },
  {
   "cell_type": "code",
   "execution_count": null,
   "id": "b3d46edd-00b8-49a5-8792-ba13b658cb1c",
   "metadata": {},
   "outputs": [],
   "source": [
    "# train_idxs = [0, 1, 2, 3, 4, 5, 6, 7, 8, 9, 10, 11, 12, 13, 14, 15, 16, 17, 18, 19, 21, 22, 23, 25, 27, 28, 30, 31, 32, 33, 34, 35, 36, 37, 38, 39, 40, 41, 47, 48, 49, 50, 51, 52, 53, 55, 56, 57, 58, 60, 62, 65, 67, 68, 69, 70, 72, 74, 75, 76, 80, 81, 82, 83, 84, 85, 86, 87, 88, 91, 92, 93, 95, 97, 98, 99, 100, 101, 103, 104, 105, 106, 107, 108, 109, 111, 113, 114, 115, 116, 117, 118, 119, 123, 124, 125, 126, 127, 128, 129, 130, 131, 133, 134, 135, 136, 137, 138, 139, 140, 141, 142, 143, 144, 145, 146, 147, 148, 149, 150, 151, 152, 153, 154, 155, 159, 160, 162, 163, 164, 165, 166]\n",
    "# test_idxs = [20, 24, 26, 29, 42, 43, 44, 45, 46, 54, 59, 61, 63, 64, 66, 71, 73, 77, 78, 79, 89, 90, 94, 96, 102, 110, 112, 120, 121, 122, 132, 156, 157, 158, 161]"
   ]
  },
  {
   "cell_type": "code",
   "execution_count": null,
   "id": "74ad5a19-736e-4905-a25f-d11427bfbe3c",
   "metadata": {},
   "outputs": [],
   "source": [
    "X = df.iloc[:,:-1].values\n",
    "Y = df.iloc[:,-1].values\n",
    "Y = np.log10(Y)"
   ]
  },
  {
   "cell_type": "code",
   "execution_count": null,
   "id": "0c4fc756-6b4f-4ef0-bbd0-82c6bde2d28f",
   "metadata": {},
   "outputs": [],
   "source": [
    "X_t = X[train_idxs]\n",
    "X_v = X[test_idxs]\n",
    "y_t = Y[train_idxs]\n",
    "y_v = Y[test_idxs]"
   ]
  },
  {
   "cell_type": "code",
   "execution_count": null,
   "id": "03f13fcd-a2f1-4905-b023-f9414e4ea068",
   "metadata": {},
   "outputs": [],
   "source": [
    "print(X_t.shape, X_v.shape, y_t.shape, y_v.shape)"
   ]
  },
  {
   "cell_type": "code",
   "execution_count": null,
   "id": "dafc8995-a61b-4e19-9be3-4cfbf06697ac",
   "metadata": {},
   "outputs": [],
   "source": [
    "means = np.mean(X_t, axis=0, keepdims=True)\n",
    "stds = np.std(X_t, axis=0, keepdims=True)\n",
    "\n",
    "X_t = (X_t - means) / stds\n",
    "X_v = (X_v - means) / stds"
   ]
  },
  {
   "cell_type": "code",
   "execution_count": null,
   "id": "cfdb7acf-4d1b-4485-9f48-55a87fdd9f59",
   "metadata": {},
   "outputs": [],
   "source": [
    "model = Sequential([\n",
    "    Dense(64, input_shape=(X_t.shape[1],), activation=\"relu\"),\n",
    "    Dropout(0.2),\n",
    "    Dense(64, activation=\"relu\"),\n",
    "    Dropout(0.2),\n",
    "    Dense(64, activation=\"relu\"),\n",
    "    Dropout(0.2),\n",
    "    Dense(64, activation=\"relu\"),\n",
    "    Dropout(0.2),\n",
    "    Dense(64, activation=\"relu\"),\n",
    "    Dropout(0.2),\n",
    "    Dense(64, activation=\"relu\"),\n",
    "    Dense(1, activation=\"relu\")\n",
    "])"
   ]
  },
  {
   "cell_type": "code",
   "execution_count": null,
   "id": "392c33a5",
   "metadata": {},
   "outputs": [],
   "source": [
    "# model.summary()"
   ]
  },
  {
   "cell_type": "code",
   "execution_count": null,
   "id": "af540731-2ac1-4b9c-ba6d-f9966240df5c",
   "metadata": {},
   "outputs": [],
   "source": [
    "model.compile(optimizer=\"adam\", loss=\"mae\", metrics=[\"mse\"])"
   ]
  },
  {
   "cell_type": "code",
   "execution_count": null,
   "id": "b39319ef-e20c-4ea6-ab5e-7b9753cc2ece",
   "metadata": {},
   "outputs": [],
   "source": [
    "path = \"\"\n",
    "# model.save_weights(path)\n",
    "# model.load_weights(path)"
   ]
  },
  {
   "cell_type": "code",
   "execution_count": null,
   "id": "d8fa5665-3600-41ab-be29-998c4b5f9e37",
   "metadata": {},
   "outputs": [],
   "source": [
    "history = model.fit(X_t, y_t, validation_data=(X_v, y_v), batch_size=8, epochs=150)"
   ]
  },
  {
   "cell_type": "code",
   "execution_count": null,
   "id": "0868ae87-7e23-4b22-b7c0-72aba6faea5c",
   "metadata": {},
   "outputs": [],
   "source": [
    "plt.plot(pd.DataFrame(history.history).loss)\n",
    "plt.plot(pd.DataFrame(history.history).val_loss)\n",
    "plt.show()"
   ]
  },
  {
   "cell_type": "code",
   "execution_count": null,
   "id": "93d9d637-ae2d-4150-aad7-5097dfa678ac",
   "metadata": {},
   "outputs": [],
   "source": [
    "y_t_pred = model.predict(X_t)\n",
    "y_v_pred = model.predict(X_v)"
   ]
  },
  {
   "cell_type": "code",
   "execution_count": null,
   "id": "0e1a6cd5-542d-4ac7-885e-10e138f3d8e2",
   "metadata": {},
   "outputs": [],
   "source": [
    "plt.scatter(y_t_pred, y_t)\n",
    "plt.show()"
   ]
  },
  {
   "cell_type": "code",
   "execution_count": null,
   "id": "33fa7de9-864a-4d70-9d06-f39ea454e112",
   "metadata": {},
   "outputs": [],
   "source": [
    "plt.scatter(y_v_pred, y_v)\n",
    "plt.show()"
   ]
  },
  {
   "cell_type": "code",
   "execution_count": null,
   "id": "e1c1a203",
   "metadata": {},
   "outputs": [],
   "source": [
    "fig, ax = plt.subplots(1,2,figsize=(12,4))\n",
    "ax[0].scatter(y_t_pred, y_t)\n",
    "ax[0].set_title(\"Training Data\", fontsize=14)\n",
    "ax[0].set_yticklabels(ax[0].get_yticks(), fontsize=12)\n",
    "ax[0].set_xticklabels(ax[0].get_xticks(), fontsize=12)\n",
    "ax[0].set_xlabel(\"Predicted Larvae Count (Log)\", fontsize=12)\n",
    "ax[0].set_ylabel(\"True Larvae Count (Log)\", fontsize=12)\n",
    "\n",
    "ax[1].scatter(y_v_pred, y_v)\n",
    "ax[1].set_title(\"Historical Validation Data (Before June 2019)\", fontsize=14)\n",
    "ax[1].set_yticklabels(ax[1].get_yticks(), fontsize=12)\n",
    "ax[1].set_xticklabels(ax[1].get_xticks(), fontsize=12)\n",
    "ax[1].set_xlabel(\"Predicted Larvae Count (Log)\", fontsize=12)\n",
    "ax[1].set_ylabel(\"True Larvae Count (Log)\", fontsize=12)\n",
    "plt.subplots_adjust(wspace=0.25)\n",
    "plt.show()"
   ]
  },
  {
   "cell_type": "code",
   "execution_count": null,
   "id": "2c370300-280e-492e-8923-7b287a5a82de",
   "metadata": {},
   "outputs": [],
   "source": [
    "m, b, r, p, SE, = linregress(10**y_v, 10**y_v_pred.reshape(-1))\n",
    "print(r, p/2)"
   ]
  },
  {
   "cell_type": "code",
   "execution_count": null,
   "id": "03b97c9c",
   "metadata": {},
   "outputs": [],
   "source": [
    "plt.scatter(10**y_v_pred, 10**y_v)\n",
    "plt.ylim(0,40)\n",
    "plt.xlim(0,40)\n",
    "plt.show()"
   ]
  },
  {
   "cell_type": "code",
   "execution_count": null,
   "id": "7e758152",
   "metadata": {},
   "outputs": [],
   "source": [
    "m, b, r, p, SE, = linregress(10**y_t, 10**y_t_pred.reshape(-1))\n",
    "print(r, p)"
   ]
  },
  {
   "cell_type": "markdown",
   "id": "1fa97649",
   "metadata": {},
   "source": [
    "# **Regions of Interest**\n"
   ]
  },
  {
   "cell_type": "code",
   "execution_count": null,
   "id": "3dc81dc5-6b03-4137-a13a-4b89cbaeea11",
   "metadata": {},
   "outputs": [],
   "source": [
    "lr = LinearRegression()\n",
    "lr.fit(df[\"Average Precipitation (in.)\"].values.reshape(-1,1), df[\"Days with Precipitation\"].values.reshape(-1,1))\n",
    "days_precip_pred = lr.predict(df[\"Average Precipitation (in.)\"].values.reshape(-1,1))"
   ]
  },
  {
   "cell_type": "code",
   "execution_count": null,
   "id": "1e7028be-a694-4d5b-b779-a358e2a3f060",
   "metadata": {},
   "outputs": [],
   "source": [
    "plt.scatter(df[\"Average Precipitation (in.)\"], df[\"Days with Precipitation\"])\n",
    "plt.plot(df[\"Average Precipitation (in.)\"].values.reshape(-1), days_precip_pred.reshape(-1), c=\"r\")\n",
    "plt.show()"
   ]
  },
  {
   "cell_type": "code",
   "execution_count": null,
   "id": "d181c290",
   "metadata": {},
   "outputs": [],
   "source": [
    "# Reading in Predictions for USA\n",
    "path = \"\"\n",
    "us_mean_temp_predictions = pd.read_csv(path)\n",
    "us_max_temp_predictions = pd.read_csv(path)\n",
    "us_min_temp_predictions = pd.read_csv(path)\n",
    "us_precip_predictions = pd.read_csv(path)"
   ]
  },
  {
   "cell_type": "code",
   "execution_count": null,
   "id": "a49a0756",
   "metadata": {},
   "outputs": [],
   "source": [
    "us_elevation = np.array([451.861,4213.116,524.218,2796.362,6860.608,464.203,44.569,58.263,498.368,5231.242,618.707,\n",
    "                         738.93,1062.981,1906.834,815.661,93.497,757.451,399.999,534.869,771.489,1198.058,282.345,\n",
    "                         844.716,4134.565,2604.784,5527.712,1121.307,227.948,5771.761,1045.326,744.65,1827.502,\n",
    "                         891.436,1287.858,3520.85,1233.219,248.131,316.708,2184.603,938.148,1649.2,6011.909,\n",
    "                         1209.995,993.246,2280.594,1657.547,1006.093,6396.121] * 3).reshape(3,48).T.reshape(-1)\n",
    "us_elevation /= 3.28084"
   ]
  },
  {
   "cell_type": "code",
   "execution_count": null,
   "id": "aada636d",
   "metadata": {},
   "outputs": [],
   "source": [
    "names_us = ['Alabama','Arizona','Arkansas','California','Colorado','Connecticut','Delaware','Florida','Georgia',\n",
    " 'Idaho','Illinois','Indiana','Iowa','Kansas','Kentucky','Louisiana','Maine','Maryland','Massachusetts','Michigan',\n",
    " 'Minnesota','Mississippi','Missouri','Montana','Nebraska','Nevada','New Hampshire','New Jersey','New Mexico',\n",
    "    'New York','North Carolina','North Dakota','Ohio','Oklahoma','Oregon','Pennsylvania','Rhode Island',\n",
    "            'South Carolina','South Dakota','Tennessee','Texas','Utah',\n",
    "    'Vermont','Virginia','Washington','West Virginia','Wisconsin','Wyoming']"
   ]
  },
  {
   "cell_type": "code",
   "execution_count": null,
   "id": "8addda11-d986-44a4-babc-9661c67d8e87",
   "metadata": {},
   "outputs": [],
   "source": [
    "# Reading in Predictions for Texas\n",
    "path = \"\"\n",
    "tx_mean_temp_predictions = pd.read_csv(path)\n",
    "tx_max_temp_predictions = pd.read_csv(path)\n",
    "tx_min_temp_predictions = pd.read_csv(path)\n",
    "tx_precip_predictions = pd.read_csv(path)"
   ]
  },
  {
   "cell_type": "code",
   "execution_count": null,
   "id": "e5767890-0745-4c50-86a6-e26ba7e0e06c",
   "metadata": {},
   "outputs": [],
   "source": [
    "tx_elevation = np.array([100, 600, 1100, 500, 20, 350, 120, 180, 1300, 20] * 4).reshape(4,10).T.reshape(-1)"
   ]
  },
  {
   "cell_type": "code",
   "execution_count": null,
   "id": "c6caa274-d9d5-4ddf-99d6-9c2586875e62",
   "metadata": {},
   "outputs": [],
   "source": [
    "names_tx = [\"East Texas\",\"Edwards Plateau\",\"High Plains\",\"Low Rolling Plains\",\"Lower Valley\",\n",
    "               \"North Central\",\"South Central\",\"South Texas\",\"Trans Pecos\",\"Upper Coast\"]"
   ]
  },
  {
   "cell_type": "code",
   "execution_count": null,
   "id": "ab68419b",
   "metadata": {},
   "outputs": [],
   "source": [
    "def get_predictions(mean_temp, max_temp, min_temp, precip, elevation, names, num_locations, num_timesteps):\n",
    "    days_precip = lr.predict(precip.iloc[:,1:-1].values.flatten().reshape(-1,1)).reshape(precip.shape[0],num_timesteps)\n",
    "    days_precip = np.round(days_precip).flatten()\n",
    "    mean_temp = mean_temp.iloc[:,1:-1].values.flatten()\n",
    "    max_temp = max_temp.iloc[:,1:-1].values.flatten()\n",
    "    min_temp = min_temp.iloc[:,1:-1].values.flatten()\n",
    "    precip = precip.iloc[:,1:-1].values.flatten()\n",
    "    test = np.vstack((max_temp,mean_temp,min_temp,days_precip,precip,elevation)).T\n",
    "    test = (test - means) / stds\n",
    "    pred = model.predict(test)\n",
    "    pred_df = pd.DataFrame(pred.reshape(num_locations,num_timesteps))\n",
    "    pred_df[\"Location\"] = names\n",
    "    pred_df.iloc[:,:-1] = 10 ** pred_df.iloc[:,:-1].values\n",
    "    return pred_df"
   ]
  },
  {
   "cell_type": "code",
   "execution_count": null,
   "id": "6bf14b21",
   "metadata": {},
   "outputs": [],
   "source": [
    "us_pred = get_predictions(us_mean_temp_predictions,\n",
    "                          us_max_temp_predictions,\n",
    "                          us_min_temp_predictions,\n",
    "                          us_precip_predictions,\n",
    "                          us_elevation,\n",
    "                          names_us,\n",
    "                          48, 3)"
   ]
  },
  {
   "cell_type": "code",
   "execution_count": null,
   "id": "f43871fc",
   "metadata": {},
   "outputs": [],
   "source": [
    "tx_pred = get_predictions(tx_mean_temp_predictions,\n",
    "                          tx_max_temp_predictions,\n",
    "                          tx_min_temp_predictions,\n",
    "                          tx_precip_predictions,\n",
    "                          tx_elevation,\n",
    "                          names_tx,\n",
    "                          10, 4)"
   ]
  },
  {
   "cell_type": "code",
   "execution_count": null,
   "id": "9a5380d2-ffeb-49ea-b210-8267dc33e796",
   "metadata": {},
   "outputs": [],
   "source": [
    "path = \"\"\n",
    "us_pred_df.to_csv(path)\n",
    "tx_pred_df.to_csv(path)"
   ]
  }
 ],
 "metadata": {
  "kernelspec": {
   "display_name": "Python 3",
   "language": "python",
   "name": "python3"
  },
  "language_info": {
   "codemirror_mode": {
    "name": "ipython",
    "version": 3
   },
   "file_extension": ".py",
   "mimetype": "text/x-python",
   "name": "python",
   "nbconvert_exporter": "python",
   "pygments_lexer": "ipython3",
   "version": "3.8.8"
  }
 },
 "nbformat": 4,
 "nbformat_minor": 5
}
