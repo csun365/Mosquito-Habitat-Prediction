{
 "cells": [
  {
   "cell_type": "code",
   "execution_count": null,
   "id": "998b531c",
   "metadata": {},
   "outputs": [],
   "source": [
    "import numpy as np\n",
    "import pandas as pd\n",
    "import json\n",
    "import geopandas as gpd\n",
    "import plotly.express as px\n",
    "import matplotlib.pyplot as plt\n",
    "import plotly.graph_objects as go"
   ]
  },
  {
   "cell_type": "code",
   "execution_count": null,
   "id": "22e7991f",
   "metadata": {},
   "outputs": [],
   "source": [
    "path = \"\"\n",
    "us_predictions = pd.read_csv(path)"
   ]
  },
  {
   "cell_type": "code",
   "execution_count": null,
   "id": "d6f7681a",
   "metadata": {},
   "outputs": [],
   "source": [
    "codes = [  'AL', 'AR', 'AZ', 'CA', 'CO', 'CT', 'DE', 'FL', 'GA',\n",
    "           'ID', 'IL', 'IN', 'IA', 'KS', 'KY', 'LA', 'ME', 'MD', 'MA', \n",
    "           'MI', 'MN', 'MS', 'MO', 'MT', 'NE', 'NV', 'NH', 'NJ', 'NM', 'NY', \n",
    "           'NC', 'ND', 'OH', 'OK', 'OR', 'PA', 'RI', 'SC', 'SD', 'TN', 'TX',\n",
    "           'UT', 'VT', 'VA', 'WA', 'WV', 'WI', 'WY']"
   ]
  },
  {
   "cell_type": "code",
   "execution_count": null,
   "id": "f806ec99",
   "metadata": {},
   "outputs": [],
   "source": [
    "us_predictions[\"Code\"] = codes"
   ]
  },
  {
   "cell_type": "code",
   "execution_count": null,
   "id": "f36184fa",
   "metadata": {},
   "outputs": [],
   "source": [
    "# code obtained from Plotly \n",
    "title = \"\"\n",
    "fig = go.Figure(data=go.Choropleth(\n",
    "    locations=predictions_2020[\"Code\"], \n",
    "    z = np.log10(us_predictions[\"0\"]).astype(float), \n",
    "    locationmode = 'USA-states', \n",
    "    colorscale = 'Reds',\n",
    "    colorbar_title = \"2020 Larvae Count\",\n",
    "))\n",
    "\n",
    "fig.update_layout(\n",
    "    title_text = title,\n",
    "    geo_scope='usa', \n",
    ")\n",
    "\n",
    "fig.show()"
   ]
  },
  {
   "cell_type": "code",
   "execution_count": null,
   "id": "a9ae035a",
   "metadata": {},
   "outputs": [],
   "source": [
    "path = \"\"\n",
    "tx_temp = pd.read_csv(path)"
   ]
  },
  {
   "cell_type": "code",
   "execution_count": null,
   "id": "2cc3b324",
   "metadata": {},
   "outputs": [],
   "source": [
    "path = \"\"\n",
    "tx_predictions = pd.read_csv(path)"
   ]
  },
  {
   "cell_type": "code",
   "execution_count": null,
   "id": "c74fd1fa",
   "metadata": {},
   "outputs": [],
   "source": [
    "path = \"\"\n",
    "state = \"\"\n",
    "idxs = [] \n",
    "df = gpd.read_file(path)\n",
    "df = df[df[\"STATE\"]==state]\n",
    "df = df.reindex(idxs)"
   ]
  },
  {
   "cell_type": "code",
   "execution_count": null,
   "id": "68ca18cf",
   "metadata": {},
   "outputs": [],
   "source": [
    "path = \"\"\n",
    "df.to_file(path, driver = \"GeoJSON\")"
   ]
  },
  {
   "cell_type": "code",
   "execution_count": null,
   "id": "a0a8a8a0",
   "metadata": {},
   "outputs": [],
   "source": [
    "path = \"\"\n",
    "with open(path) as geofile:\n",
    "    file = json.load(geofile)"
   ]
  },
  {
   "cell_type": "code",
   "execution_count": null,
   "id": "6cd18485",
   "metadata": {},
   "outputs": [],
   "source": [
    "i = 0\n",
    "for feature in file[\"features\"]:\n",
    "    feature[\"id\"] = str(i).zfill(2)\n",
    "    i += 1"
   ]
  },
  {
   "cell_type": "code",
   "execution_count": null,
   "id": "763409e1",
   "metadata": {},
   "outputs": [],
   "source": [
    "tx_predictions[\"id\"] = [str(i).zfill(2) for i in range(10)]"
   ]
  },
  {
   "cell_type": "code",
   "execution_count": null,
   "id": "32276f07",
   "metadata": {},
   "outputs": [],
   "source": [
    "plot =  # define what to plot"
   ]
  },
  {
   "cell_type": "code",
   "execution_count": null,
   "id": "ebb66fc3",
   "metadata": {},
   "outputs": [],
   "source": [
    "plot[\"id\"] = tx_predictions[\"id\"]\n",
    "plot[\"location\"] = tx_predictions[\"Division\"]\n",
    "plot.columns = [\"Larvae Count\", \"id\", \"location\"]"
   ]
  },
  {
   "cell_type": "code",
   "execution_count": null,
   "id": "103c8dd5",
   "metadata": {
    "scrolled": false
   },
   "outputs": [],
   "source": [
    "label = \"\"\n",
    "fig = px.choropleth(plot, geojson=file, locations=\"id\", color=\"Larvae Count\",\n",
    "                           color_continuous_scale=\"Greens\",\n",
    "                           scope=\"usa\",\n",
    "                           labels={\"Larvae Count\": label}, \n",
    "                    hover_name=\"location\")\n",
    "fig.show()"
   ]
  }
 ],
 "metadata": {
  "kernelspec": {
   "display_name": "Python 3",
   "language": "python",
   "name": "python3"
  },
  "language_info": {
   "codemirror_mode": {
    "name": "ipython",
    "version": 3
   },
   "file_extension": ".py",
   "mimetype": "text/x-python",
   "name": "python",
   "nbconvert_exporter": "python",
   "pygments_lexer": "ipython3",
   "version": "3.8.8"
  }
 },
 "nbformat": 4,
 "nbformat_minor": 5
}
