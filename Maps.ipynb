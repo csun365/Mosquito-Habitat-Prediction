{
 "cells": [
  {
   "cell_type": "code",
   "execution_count": null,
   "id": "998b531c",
   "metadata": {},
   "outputs": [],
   "source": [
    "import numpy as np\n",
    "import pandas as pd\n",
    "import json\n",
    "import geopandas as gpd\n",
    "import plotly.express as px\n",
    "import matplotlib.pyplot as plt\n",
    "import plotly.graph_objects as go"
   ]
  },
  {
   "cell_type": "code",
   "execution_count": null,
   "id": "c72bdaff",
   "metadata": {},
   "outputs": [],
   "source": [
    "ca_predictions = pd.read_csv(\"/Users/christophersun/Downloads/ca_larvae_count_predictions.csv\")"
   ]
  },
  {
   "cell_type": "code",
   "execution_count": null,
   "id": "22e7991f",
   "metadata": {},
   "outputs": [],
   "source": [
    "us_predictions = pd.read_csv(\"/Users/christophersun/Downloads/us_larvae_count_predictions.csv\")"
   ]
  },
  {
   "cell_type": "code",
   "execution_count": null,
   "id": "d6f7681a",
   "metadata": {},
   "outputs": [],
   "source": [
    "codes = [  'AL', 'AR', 'AZ', 'CA', 'CO', 'CT', 'DE', 'FL', 'GA',\n",
    "           'ID', 'IL', 'IN', 'IA', 'KS', 'KY', 'LA', 'ME', 'MD', 'MA', \n",
    "           'MI', 'MN', 'MS', 'MO', 'MT', 'NE', 'NV', 'NH', 'NJ', 'NM', 'NY', \n",
    "           'NC', 'ND', 'OH', 'OK', 'OR', 'PA', 'RI', 'SC', 'SD', 'TN', 'TX',\n",
    "           'UT', 'VT', 'VA', 'WA', 'WV', 'WI', 'WY']"
   ]
  },
  {
   "cell_type": "code",
   "execution_count": null,
   "id": "f806ec99",
   "metadata": {},
   "outputs": [],
   "source": [
    "us_predictions[\"Code\"] = codes"
   ]
  },
  {
   "cell_type": "code",
   "execution_count": null,
   "id": "f36184fa",
   "metadata": {},
   "outputs": [],
   "source": [
    "title = \"\"\n",
    "fig = go.Figure(data=go.Choropleth(\n",
    "    locations=predictions_2020[\"Code\"], # Spatial coordinates\n",
    "    z = np.log10(us_predictions[\"0\"]).astype(float), # Data to be color-coded\n",
    "    locationmode = 'USA-states', # set of locations match entries in `locations`\n",
    "    colorscale = 'Reds',\n",
    "    colorbar_title = \"2020 Larvae Count\",\n",
    "))\n",
    "\n",
    "fig.update_layout(\n",
    "    title_text = title,\n",
    "    geo_scope='usa', # limite map scope to USA\n",
    ")\n",
    "\n",
    "fig.show()"
   ]
  },
  {
   "cell_type": "code",
   "execution_count": null,
   "id": "a9ae035a",
   "metadata": {},
   "outputs": [],
   "source": [
    "tx_temp = pd.read_csv(\"/Users/christophersun/Downloads/tx_mean_temp_predictions.csv\")"
   ]
  },
  {
   "cell_type": "code",
   "execution_count": null,
   "id": "345594e4",
   "metadata": {},
   "outputs": [],
   "source": [
    "tx_temp = pd.read_csv(\"/Users/christophersun/Downloads/tx_precip_predictions.csv\")"
   ]
  },
  {
   "cell_type": "code",
   "execution_count": null,
   "id": "2cc3b324",
   "metadata": {},
   "outputs": [],
   "source": [
    "tx_predictions = pd.read_csv(\"/Users/christophersun/Documents/SEES/Time_Series/tx_larvae_count_predictions.csv\")"
   ]
  },
  {
   "cell_type": "code",
   "execution_count": null,
   "id": "c74fd1fa",
   "metadata": {},
   "outputs": [],
   "source": [
    "geodf = gpd.read_file(\"/Users/christophersun/Downloads/CONUS_CLIMATE_DIVISIONS.shp/GIS.OFFICIAL_CLIM_DIVISIONS.shp\")"
   ]
  },
  {
   "cell_type": "code",
   "execution_count": null,
   "id": "3bcb0424",
   "metadata": {},
   "outputs": [],
   "source": [
    "geodf = geodf[geodf[\"STATE\"]==\"California\"]"
   ]
  },
  {
   "cell_type": "code",
   "execution_count": null,
   "id": "4fcbd3f1",
   "metadata": {},
   "outputs": [],
   "source": [
    "geodf = geodf.reindex([306, 305, 302, 303, 304, 307, 301])"
   ]
  },
  {
   "cell_type": "code",
   "execution_count": null,
   "id": "68ca18cf",
   "metadata": {},
   "outputs": [],
   "source": [
    "geodf.to_file(\"climate_divisions_california.geojson\", driver = \"GeoJSON\")"
   ]
  },
  {
   "cell_type": "code",
   "execution_count": null,
   "id": "2191ba80",
   "metadata": {},
   "outputs": [],
   "source": [
    "geodf = geodf.reindex([246,248,243,244,252,245,249,250,247,251])"
   ]
  },
  {
   "cell_type": "code",
   "execution_count": null,
   "id": "dcf91bba",
   "metadata": {},
   "outputs": [],
   "source": [
    "geodf.to_file(\"climate_divisions_texas.geojson\", driver = \"GeoJSON\")"
   ]
  },
  {
   "cell_type": "code",
   "execution_count": null,
   "id": "a0a8a8a0",
   "metadata": {},
   "outputs": [],
   "source": [
    "with open(\"climate_divisions_texas.geojson\") as geofile:\n",
    "    j_file = json.load(geofile)"
   ]
  },
  {
   "cell_type": "code",
   "execution_count": null,
   "id": "6cd18485",
   "metadata": {},
   "outputs": [],
   "source": [
    "i=0\n",
    "for feature in j_file[\"features\"]:\n",
    "    feature[\"id\"] = str(i).zfill(2)\n",
    "    i += 1"
   ]
  },
  {
   "cell_type": "code",
   "execution_count": null,
   "id": "763409e1",
   "metadata": {},
   "outputs": [],
   "source": [
    "tx_predictions[\"id\"] = [str(i).zfill(2) for i in range(10)]"
   ]
  },
  {
   "cell_type": "code",
   "execution_count": null,
   "id": "c46e4688",
   "metadata": {},
   "outputs": [],
   "source": [
    "ca_predictions"
   ]
  },
  {
   "cell_type": "code",
   "execution_count": null,
   "id": "32276f07",
   "metadata": {},
   "outputs": [],
   "source": [
    "plot = pd.DataFrame((tx_predictions[\"2\"] - tx_predictions[\"0\"]) / tx_predictions[\"0\"])"
   ]
  },
  {
   "cell_type": "code",
   "execution_count": null,
   "id": "ebb66fc3",
   "metadata": {},
   "outputs": [],
   "source": [
    "plot[\"id\"] = tx_predictions[\"id\"]"
   ]
  },
  {
   "cell_type": "code",
   "execution_count": null,
   "id": "260d4942",
   "metadata": {},
   "outputs": [],
   "source": [
    "plot[\"location\"] = tx_predictions[\"Division\"]"
   ]
  },
  {
   "cell_type": "code",
   "execution_count": null,
   "id": "e5ecafe6",
   "metadata": {},
   "outputs": [],
   "source": [
    "plot.columns = [\"Larvae Count\", \"id\", \"location\"]"
   ]
  },
  {
   "cell_type": "code",
   "execution_count": null,
   "id": "54205f77",
   "metadata": {},
   "outputs": [],
   "source": [
    "plot = pd.DataFrame((ca_predictions[\"2\"] - ca_predictions[\"0\"]) / ca_predictions[\"0\"])"
   ]
  },
  {
   "cell_type": "code",
   "execution_count": null,
   "id": "ca91e1dc",
   "metadata": {},
   "outputs": [],
   "source": [
    "plot = pd.DataFrame(ca_predictions[\"2\"])"
   ]
  },
  {
   "cell_type": "code",
   "execution_count": null,
   "id": "27643870",
   "metadata": {},
   "outputs": [],
   "source": [
    "plot[\"id\"] = ca_predictions[\"id\"]"
   ]
  },
  {
   "cell_type": "code",
   "execution_count": null,
   "id": "3a094b94",
   "metadata": {},
   "outputs": [],
   "source": [
    "plot[\"location\"] = tx_temp[\"Division\"]"
   ]
  },
  {
   "cell_type": "code",
   "execution_count": null,
   "id": "e8c7c3b1",
   "metadata": {},
   "outputs": [],
   "source": [
    "plot.columns = [\"Larvae Percent Change\", \"id\", \"location\"]"
   ]
  },
  {
   "cell_type": "code",
   "execution_count": null,
   "id": "103c8dd5",
   "metadata": {
    "scrolled": false
   },
   "outputs": [],
   "source": [
    "fig = px.choropleth(plot, geojson=j_file, locations=\"id\", color=\"Larvae Count\",\n",
    "                           color_continuous_scale=\"Greens\",\n",
    "#                            range_color=(0, 12),\n",
    "                           scope=\"usa\",\n",
    "                           labels={\"Larvae Count\":\" Larvae Count (2050)\"}, \n",
    "                    hover_name=\"location\")\n",
    "# fig.update_layout(width=1000,height=600,legend=dict(\n",
    "#         title=None, orientation = 'h', y=1, yanchor=\"bottom\", x=0.5, xanchor=\"center\"\n",
    "#     ))\n",
    "fig.show()"
   ]
  },
  {
   "cell_type": "code",
   "execution_count": null,
   "id": "954e80d9",
   "metadata": {},
   "outputs": [],
   "source": []
  }
 ],
 "metadata": {
  "kernelspec": {
   "display_name": "Python 3",
   "language": "python",
   "name": "python3"
  },
  "language_info": {
   "codemirror_mode": {
    "name": "ipython",
    "version": 3
   },
   "file_extension": ".py",
   "mimetype": "text/x-python",
   "name": "python",
   "nbconvert_exporter": "python",
   "pygments_lexer": "ipython3",
   "version": "3.8.8"
  }
 },
 "nbformat": 4,
 "nbformat_minor": 5
}
